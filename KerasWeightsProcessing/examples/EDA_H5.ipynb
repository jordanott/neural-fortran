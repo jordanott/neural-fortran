{
 "cells": [
  {
   "cell_type": "code",
   "execution_count": 1,
   "metadata": {},
   "outputs": [
    {
     "name": "stderr",
     "output_type": "stream",
     "text": [
      "/usr/local/lib/python2.7/dist-packages/h5py/__init__.py:34: FutureWarning: Conversion of the second argument of issubdtype from `float` to `np.floating` is deprecated. In future, it will be treated as `np.float64 == np.dtype(float).type`.\n",
      "  from ._conv import register_converters as _register_converters\n"
     ]
    }
   ],
   "source": [
    "import h5py\n",
    "import pprint as pp"
   ]
  },
  {
   "cell_type": "code",
   "execution_count": 2,
   "metadata": {},
   "outputs": [
    {
     "name": "stdout",
     "output_type": "stream",
     "text": [
      "[u'model_weights']\n",
      "[u'keras_version', u'backend', u'model_config', u'training_config']\n",
      "[u'dense_1', u'dense_2', u'dense_3', u'dense_4', u'dense_5']\n",
      "[u'bias:0', u'kernel:0']\n"
     ]
    }
   ],
   "source": [
    "with h5py.File('sequential_5_relu_0.0.h5', 'r') as weights_file:\n",
    "    print weights_file.keys()\n",
    "    print [i for i in weights_file.attrs]\n",
    "    \n",
    "    model_weights = weights_file['model_weights']\n",
    "    \n",
    "    print model_weights.keys()\n",
    "    model_config = weights_file.attrs['model_config'].decode('utf-8') # Decode using the utf-8 encoding\n",
    "    model_config = model_config.replace('true','True')\n",
    "    model_config = model_config.replace('false','False')\n",
    "\n",
    "    model_config = model_config.replace('null','None')\n",
    "    model_config = eval(model_config)\n",
    "    \n",
    "    pp.pprint(model_weights['dense_2']['dense_2'].keys())"
   ]
  },
  {
   "cell_type": "code",
   "execution_count": 3,
   "metadata": {},
   "outputs": [
    {
     "name": "stdout",
     "output_type": "stream",
     "text": [
      "[u'model_weights']\n",
      "[u'keras_version', u'backend', u'model_config', u'training_config']\n",
      "[u'dense_1', u'dense_2', u'dense_3', u'dense_4', u'dense_5', u'input_1']\n",
      "{'class_name': 'Model',\n",
      " 'config': {'input_layers': [['input_1', 0, 0]],\n",
      "            'layers': [{'class_name': 'InputLayer',\n",
      "                        'config': {'batch_input_shape': [None, 5],\n",
      "                                   'dtype': 'float32',\n",
      "                                   'name': 'input_1',\n",
      "                                   'sparse': False},\n",
      "                        'inbound_nodes': [],\n",
      "                        'name': 'input_1'},\n",
      "                       {'class_name': 'Dense',\n",
      "                        'config': {'activation': 'relu',\n",
      "                                   'activity_regularizer': None,\n",
      "                                   'bias_constraint': None,\n",
      "                                   'bias_initializer': {'class_name': 'Zeros',\n",
      "                                                        'config': {}},\n",
      "                                   'bias_regularizer': None,\n",
      "                                   'kernel_constraint': None,\n",
      "                                   'kernel_initializer': {'class_name': 'VarianceScaling',\n",
      "                                                          'config': {'distribution': 'uniform',\n",
      "                                                                     'mode': 'fan_avg',\n",
      "                                                                     'scale': 1.0,\n",
      "                                                                     'seed': None}},\n",
      "                                   'kernel_regularizer': None,\n",
      "                                   'name': 'dense_1',\n",
      "                                   'trainable': True,\n",
      "                                   'units': 32,\n",
      "                                   'use_bias': True},\n",
      "                        'inbound_nodes': [[['input_1', 0, 0, {}]]],\n",
      "                        'name': 'dense_1'},\n",
      "                       {'class_name': 'Dense',\n",
      "                        'config': {'activation': 'relu',\n",
      "                                   'activity_regularizer': None,\n",
      "                                   'bias_constraint': None,\n",
      "                                   'bias_initializer': {'class_name': 'Zeros',\n",
      "                                                        'config': {}},\n",
      "                                   'bias_regularizer': None,\n",
      "                                   'kernel_constraint': None,\n",
      "                                   'kernel_initializer': {'class_name': 'VarianceScaling',\n",
      "                                                          'config': {'distribution': 'uniform',\n",
      "                                                                     'mode': 'fan_avg',\n",
      "                                                                     'scale': 1.0,\n",
      "                                                                     'seed': None}},\n",
      "                                   'kernel_regularizer': None,\n",
      "                                   'name': 'dense_2',\n",
      "                                   'trainable': True,\n",
      "                                   'units': 32,\n",
      "                                   'use_bias': True},\n",
      "                        'inbound_nodes': [[['dense_1', 0, 0, {}]]],\n",
      "                        'name': 'dense_2'},\n",
      "                       {'class_name': 'Dense',\n",
      "                        'config': {'activation': 'relu',\n",
      "                                   'activity_regularizer': None,\n",
      "                                   'bias_constraint': None,\n",
      "                                   'bias_initializer': {'class_name': 'Zeros',\n",
      "                                                        'config': {}},\n",
      "                                   'bias_regularizer': None,\n",
      "                                   'kernel_constraint': None,\n",
      "                                   'kernel_initializer': {'class_name': 'VarianceScaling',\n",
      "                                                          'config': {'distribution': 'uniform',\n",
      "                                                                     'mode': 'fan_avg',\n",
      "                                                                     'scale': 1.0,\n",
      "                                                                     'seed': None}},\n",
      "                                   'kernel_regularizer': None,\n",
      "                                   'name': 'dense_3',\n",
      "                                   'trainable': True,\n",
      "                                   'units': 32,\n",
      "                                   'use_bias': True},\n",
      "                        'inbound_nodes': [[['dense_2', 0, 0, {}]]],\n",
      "                        'name': 'dense_3'},\n",
      "                       {'class_name': 'Dense',\n",
      "                        'config': {'activation': 'relu',\n",
      "                                   'activity_regularizer': None,\n",
      "                                   'bias_constraint': None,\n",
      "                                   'bias_initializer': {'class_name': 'Zeros',\n",
      "                                                        'config': {}},\n",
      "                                   'bias_regularizer': None,\n",
      "                                   'kernel_constraint': None,\n",
      "                                   'kernel_initializer': {'class_name': 'VarianceScaling',\n",
      "                                                          'config': {'distribution': 'uniform',\n",
      "                                                                     'mode': 'fan_avg',\n",
      "                                                                     'scale': 1.0,\n",
      "                                                                     'seed': None}},\n",
      "                                   'kernel_regularizer': None,\n",
      "                                   'name': 'dense_4',\n",
      "                                   'trainable': True,\n",
      "                                   'units': 32,\n",
      "                                   'use_bias': True},\n",
      "                        'inbound_nodes': [[['dense_3', 0, 0, {}]]],\n",
      "                        'name': 'dense_4'},\n",
      "                       {'class_name': 'Dense',\n",
      "                        'config': {'activation': 'linear',\n",
      "                                   'activity_regularizer': None,\n",
      "                                   'bias_constraint': None,\n",
      "                                   'bias_initializer': {'class_name': 'Zeros',\n",
      "                                                        'config': {}},\n",
      "                                   'bias_regularizer': None,\n",
      "                                   'kernel_constraint': None,\n",
      "                                   'kernel_initializer': {'class_name': 'VarianceScaling',\n",
      "                                                          'config': {'distribution': 'uniform',\n",
      "                                                                     'mode': 'fan_avg',\n",
      "                                                                     'scale': 1.0,\n",
      "                                                                     'seed': None}},\n",
      "                                   'kernel_regularizer': None,\n",
      "                                   'name': 'dense_5',\n",
      "                                   'trainable': True,\n",
      "                                   'units': 2,\n",
      "                                   'use_bias': True},\n",
      "                        'inbound_nodes': [[['dense_4', 0, 0, {}]]],\n",
      "                        'name': 'dense_5'}],\n",
      "            'name': 'model_1',\n",
      "            'output_layers': [['dense_5', 0, 0]]}}\n"
     ]
    }
   ],
   "source": [
    "with h5py.File('functional_5_relu_0.0.h5', 'r') as weights_file:\n",
    "    print weights_file.keys()\n",
    "    print [i for i in weights_file.attrs]\n",
    "    \n",
    "    model_weights = weights_file['model_weights']\n",
    "    \n",
    "    print model_weights.keys()\n",
    "    model_config = weights_file.attrs['model_config'].decode('utf-8') # Decode using the utf-8 encoding\n",
    "    model_config = model_config.replace('true','True')\n",
    "    model_config = model_config.replace('false','False')\n",
    "\n",
    "    model_config = model_config.replace('null','None')\n",
    "    model_config = eval(model_config)\n",
    "    \n",
    "    pp.pprint(model_config)"
   ]
  },
  {
   "cell_type": "code",
   "execution_count": 4,
   "metadata": {},
   "outputs": [
    {
     "ename": "IOError",
     "evalue": "Unable to open file (Unable to open file: name = 'sequential_5_leakyrelu_0.0.h5', errno = 2, error message = 'no such file or directory', flags = 0, o_flags = 0)",
     "output_type": "error",
     "traceback": [
      "\u001b[0;31m---------------------------------\u001b[0m",
      "\u001b[0;31mIOError\u001b[0mTraceback (most recent call last)",
      "\u001b[0;32m<ipython-input-4-98aa0c8fb829>\u001b[0m in \u001b[0;36m<module>\u001b[0;34m()\u001b[0m\n\u001b[0;32m----> 1\u001b[0;31m \u001b[0;32mwith\u001b[0m \u001b[0mh5py\u001b[0m\u001b[0;34m.\u001b[0m\u001b[0mFile\u001b[0m\u001b[0;34m(\u001b[0m\u001b[0;34m'sequential_5_leakyrelu_0.0.h5'\u001b[0m\u001b[0;34m,\u001b[0m \u001b[0;34m'r'\u001b[0m\u001b[0;34m)\u001b[0m \u001b[0;32mas\u001b[0m \u001b[0mweights_file\u001b[0m\u001b[0;34m:\u001b[0m\u001b[0;34m\u001b[0m\u001b[0m\n\u001b[0m\u001b[1;32m      2\u001b[0m     \u001b[0;32mprint\u001b[0m \u001b[0mweights_file\u001b[0m\u001b[0;34m.\u001b[0m\u001b[0mkeys\u001b[0m\u001b[0;34m(\u001b[0m\u001b[0;34m)\u001b[0m\u001b[0;34m\u001b[0m\u001b[0m\n\u001b[1;32m      3\u001b[0m     \u001b[0;32mprint\u001b[0m \u001b[0;34m[\u001b[0m\u001b[0mi\u001b[0m \u001b[0;32mfor\u001b[0m \u001b[0mi\u001b[0m \u001b[0;32min\u001b[0m \u001b[0mweights_file\u001b[0m\u001b[0;34m.\u001b[0m\u001b[0mattrs\u001b[0m\u001b[0;34m]\u001b[0m\u001b[0;34m\u001b[0m\u001b[0m\n\u001b[1;32m      4\u001b[0m \u001b[0;34m\u001b[0m\u001b[0m\n\u001b[1;32m      5\u001b[0m     \u001b[0mmodel_weights\u001b[0m \u001b[0;34m=\u001b[0m \u001b[0mweights_file\u001b[0m\u001b[0;34m[\u001b[0m\u001b[0;34m'model_weights'\u001b[0m\u001b[0;34m]\u001b[0m\u001b[0;34m\u001b[0m\u001b[0m\n",
      "\u001b[0;32m/usr/local/lib/python2.7/dist-packages/h5py/_hl/files.pyc\u001b[0m in \u001b[0;36m__init__\u001b[0;34m(self, name, mode, driver, libver, userblock_size, swmr, **kwds)\u001b[0m\n\u001b[1;32m    269\u001b[0m \u001b[0;34m\u001b[0m\u001b[0m\n\u001b[1;32m    270\u001b[0m                 \u001b[0mfapl\u001b[0m \u001b[0;34m=\u001b[0m \u001b[0mmake_fapl\u001b[0m\u001b[0;34m(\u001b[0m\u001b[0mdriver\u001b[0m\u001b[0;34m,\u001b[0m \u001b[0mlibver\u001b[0m\u001b[0;34m,\u001b[0m \u001b[0;34m**\u001b[0m\u001b[0mkwds\u001b[0m\u001b[0;34m)\u001b[0m\u001b[0;34m\u001b[0m\u001b[0m\n\u001b[0;32m--> 271\u001b[0;31m                 \u001b[0mfid\u001b[0m \u001b[0;34m=\u001b[0m \u001b[0mmake_fid\u001b[0m\u001b[0;34m(\u001b[0m\u001b[0mname\u001b[0m\u001b[0;34m,\u001b[0m \u001b[0mmode\u001b[0m\u001b[0;34m,\u001b[0m \u001b[0muserblock_size\u001b[0m\u001b[0;34m,\u001b[0m \u001b[0mfapl\u001b[0m\u001b[0;34m,\u001b[0m \u001b[0mswmr\u001b[0m\u001b[0;34m=\u001b[0m\u001b[0mswmr\u001b[0m\u001b[0;34m)\u001b[0m\u001b[0;34m\u001b[0m\u001b[0m\n\u001b[0m\u001b[1;32m    272\u001b[0m \u001b[0;34m\u001b[0m\u001b[0m\n\u001b[1;32m    273\u001b[0m                 \u001b[0;32mif\u001b[0m \u001b[0mswmr_support\u001b[0m\u001b[0;34m:\u001b[0m\u001b[0;34m\u001b[0m\u001b[0m\n",
      "\u001b[0;32m/usr/local/lib/python2.7/dist-packages/h5py/_hl/files.pyc\u001b[0m in \u001b[0;36mmake_fid\u001b[0;34m(name, mode, userblock_size, fapl, fcpl, swmr)\u001b[0m\n\u001b[1;32m     99\u001b[0m         \u001b[0;32mif\u001b[0m \u001b[0mswmr\u001b[0m \u001b[0;32mand\u001b[0m \u001b[0mswmr_support\u001b[0m\u001b[0;34m:\u001b[0m\u001b[0;34m\u001b[0m\u001b[0m\n\u001b[1;32m    100\u001b[0m             \u001b[0mflags\u001b[0m \u001b[0;34m|=\u001b[0m \u001b[0mh5f\u001b[0m\u001b[0;34m.\u001b[0m\u001b[0mACC_SWMR_READ\u001b[0m\u001b[0;34m\u001b[0m\u001b[0m\n\u001b[0;32m--> 101\u001b[0;31m         \u001b[0mfid\u001b[0m \u001b[0;34m=\u001b[0m \u001b[0mh5f\u001b[0m\u001b[0;34m.\u001b[0m\u001b[0mopen\u001b[0m\u001b[0;34m(\u001b[0m\u001b[0mname\u001b[0m\u001b[0;34m,\u001b[0m \u001b[0mflags\u001b[0m\u001b[0;34m,\u001b[0m \u001b[0mfapl\u001b[0m\u001b[0;34m=\u001b[0m\u001b[0mfapl\u001b[0m\u001b[0;34m)\u001b[0m\u001b[0;34m\u001b[0m\u001b[0m\n\u001b[0m\u001b[1;32m    102\u001b[0m     \u001b[0;32melif\u001b[0m \u001b[0mmode\u001b[0m \u001b[0;34m==\u001b[0m \u001b[0;34m'r+'\u001b[0m\u001b[0;34m:\u001b[0m\u001b[0;34m\u001b[0m\u001b[0m\n\u001b[1;32m    103\u001b[0m         \u001b[0mfid\u001b[0m \u001b[0;34m=\u001b[0m \u001b[0mh5f\u001b[0m\u001b[0;34m.\u001b[0m\u001b[0mopen\u001b[0m\u001b[0;34m(\u001b[0m\u001b[0mname\u001b[0m\u001b[0;34m,\u001b[0m \u001b[0mh5f\u001b[0m\u001b[0;34m.\u001b[0m\u001b[0mACC_RDWR\u001b[0m\u001b[0;34m,\u001b[0m \u001b[0mfapl\u001b[0m\u001b[0;34m=\u001b[0m\u001b[0mfapl\u001b[0m\u001b[0;34m)\u001b[0m\u001b[0;34m\u001b[0m\u001b[0m\n",
      "\u001b[0;32mh5py/_objects.pyx\u001b[0m in \u001b[0;36mh5py._objects.with_phil.wrapper (/tmp/pip-nCYoKW-build/h5py/_objects.c:2840)\u001b[0;34m()\u001b[0m\n",
      "\u001b[0;32mh5py/_objects.pyx\u001b[0m in \u001b[0;36mh5py._objects.with_phil.wrapper (/tmp/pip-nCYoKW-build/h5py/_objects.c:2798)\u001b[0;34m()\u001b[0m\n",
      "\u001b[0;32mh5py/h5f.pyx\u001b[0m in \u001b[0;36mh5py.h5f.open (/tmp/pip-nCYoKW-build/h5py/h5f.c:2117)\u001b[0;34m()\u001b[0m\n",
      "\u001b[0;31mIOError\u001b[0m: Unable to open file (Unable to open file: name = 'sequential_5_leakyrelu_0.0.h5', errno = 2, error message = 'no such file or directory', flags = 0, o_flags = 0)"
     ]
    }
   ],
   "source": [
    "with h5py.File('sequential_5_leakyrelu_0.0.h5', 'r') as weights_file:\n",
    "    print weights_file.keys()\n",
    "    print [i for i in weights_file.attrs]\n",
    "    \n",
    "    model_weights = weights_file['model_weights']\n",
    "    \n",
    "    print model_weights.keys()\n",
    "    model_config = weights_file.attrs['model_config'].decode('utf-8') # Decode using the utf-8 encoding\n",
    "    model_config = model_config.replace('true','True')\n",
    "    model_config = model_config.replace('false','False')\n",
    "\n",
    "    model_config = model_config.replace('null','None')\n",
    "    model_config = eval(model_config)\n",
    "    \n",
    "    print model_weights['leaky_re_lu_1']\n",
    "    pp.pprint(model_config)"
   ]
  },
  {
   "cell_type": "code",
   "execution_count": 14,
   "metadata": {},
   "outputs": [
    {
     "name": "stdout",
     "output_type": "stream",
     "text": [
      "[u'model_weights']\n",
      "[u'keras_version', u'backend', u'model_config', u'training_config']\n",
      "[u'batch_normalization_1', u'batch_normalization_2', u'batch_normalization_3', u'batch_normalization_4', u'dense_1', u'dense_2', u'dense_3', u'dense_4', u'dense_5', u'leaky_re_lu_1', u'leaky_re_lu_2', u'leaky_re_lu_3', u'leaky_re_lu_4']\n",
      "beta:0 [0. 0. 0. 0. 0. 0. 0. 0. 0. 0. 0. 0. 0. 0. 0. 0. 0. 0. 0. 0. 0. 0. 0. 0.\n",
      " 0. 0. 0. 0. 0. 0. 0. 0.]\n",
      "gamma:0 [1. 1. 1. 1. 1. 1. 1. 1. 1. 1. 1. 1. 1. 1. 1. 1. 1. 1. 1. 1. 1. 1. 1. 1.\n",
      " 1. 1. 1. 1. 1. 1. 1. 1.]\n",
      "moving_mean:0 [0. 0. 0. 0. 0. 0. 0. 0. 0. 0. 0. 0. 0. 0. 0. 0. 0. 0. 0. 0. 0. 0. 0. 0.\n",
      " 0. 0. 0. 0. 0. 0. 0. 0.]\n",
      "moving_variance:0 [1. 1. 1. 1. 1. 1. 1. 1. 1. 1. 1. 1. 1. 1. 1. 1. 1. 1. 1. 1. 1. 1. 1. 1.\n",
      " 1. 1. 1. 1. 1. 1. 1. 1.]\n"
     ]
    }
   ],
   "source": [
    "with h5py.File('sequential_5_leakyrelu_0.0_True.h5', 'r') as weights_file:\n",
    "    print weights_file.keys()\n",
    "    print [i for i in weights_file.attrs]\n",
    "    \n",
    "    model_weights = weights_file['model_weights']\n",
    "    \n",
    "    print model_weights.keys()\n",
    "    model_config = weights_file.attrs['model_config'].decode('utf-8') # Decode using the utf-8 encoding\n",
    "    model_config = model_config.replace('true','True')\n",
    "    model_config = model_config.replace('false','False')\n",
    "\n",
    "    model_config = model_config.replace('null','None')\n",
    "    model_config = eval(model_config)\n",
    "    \n",
    "    for k,v in model_weights['batch_normalization_1']['batch_normalization_1'].iteritems():\n",
    "        print k, v[:]\n",
    "#     pp.pprint(model_config)"
   ]
  },
  {
   "cell_type": "code",
   "execution_count": null,
   "metadata": {},
   "outputs": [],
   "source": [
    "model_weights"
   ]
  }
 ],
 "metadata": {
  "kernelspec": {
   "display_name": "Python 2",
   "language": "python",
   "name": "python2"
  },
  "language_info": {
   "codemirror_mode": {
    "name": "ipython",
    "version": 2
   },
   "file_extension": ".py",
   "mimetype": "text/x-python",
   "name": "python",
   "nbconvert_exporter": "python",
   "pygments_lexer": "ipython2",
   "version": "2.7.12"
  }
 },
 "nbformat": 4,
 "nbformat_minor": 2
}
